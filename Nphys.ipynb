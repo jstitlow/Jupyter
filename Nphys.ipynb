{
 "cells": [
  {
   "cell_type": "markdown",
   "metadata": {},
   "source": [
    "# Neurophysiological analytics for all! Free open-source software tools for documenting, analyzing, visualizing, and sharing using electronic notebooks. Journal of Neurophysiology (2016, in press) [Pubmed](https://www.ncbi.nlm.nih.gov/pubmed)  \n",
    "## *David M. Rosenberg and Charles C. Horn*\n",
    "## *University of Pittsburgh*\n",
    "---\n",
    "# Notebooks:\n",
    "## *DATA Supplement 1 - Notebook content*\n",
    "### [Content Types](DATA Supplement 1 - Notebook content/Content_types.ipynb)  \n",
    "### [R Statistics](DATA Supplement 1 - Notebook content/R_Statistics.ipynb)\n",
    "## *DATA Supplement 2 - Spike sorting and train analysis*\n",
    "### [Spike Sorting](DATA Supplement 2 - Spike sorting and train analysis/Spike-Sorting.ipynb)\n",
    "### [Spiketrain Analysis](DATA Supplement 2 - Spike sorting and train analysis/Spiketrain-Analysis.ipynb)\n",
    "## *DATA Supplement 3 - Compound action potentials*\n",
    "### [Compound Action Potentials](DATA Supplement 3 - Compound action potentials/Compound-Action-Potentials.ipynb)  \n"
   ]
  }
 ],
 "metadata": {
  "kernelspec": {
   "display_name": "Python 2",
   "language": "python",
   "name": "python2"
  },
  "language_info": {
   "codemirror_mode": {
    "name": "ipython",
    "version": 2
   },
   "file_extension": ".py",
   "mimetype": "text/x-python",
   "name": "python",
   "nbconvert_exporter": "python",
   "pygments_lexer": "ipython2",
   "version": "2.7.11"
  }
 },
 "nbformat": 4,
 "nbformat_minor": 0
}
